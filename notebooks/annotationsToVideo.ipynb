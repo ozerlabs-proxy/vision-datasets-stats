{
 "cells": [
  {
   "cell_type": "code",
   "execution_count": null,
   "metadata": {},
   "outputs": [],
   "source": [
    "# expose parent directory to import modules\n",
    "import os\n",
    "import sys\n",
    "\n",
    "ROOT_DIR = os.getcwd()\n",
    "while os.path.basename(ROOT_DIR) != 'DatasetsStatistics':\n",
    "    ROOT_DIR = os.path.abspath(os.path.join(ROOT_DIR,'..'))\n",
    "sys.path.insert(0,ROOT_DIR)\n",
    "os.chdir(ROOT_DIR)\n",
    "\n",
    "TASK = 'segmentation'"
   ]
  },
  {
   "cell_type": "code",
   "execution_count": null,
   "metadata": {},
   "outputs": [],
   "source": [
    "import json\n",
    "import random\n",
    "import cv2\n",
    "import numpy as np\n",
    "\n",
    "from pycocotools.coco import COCO\n",
    "from pycocotools.cocoeval import COCOeval\n",
    "\n",
    "from pycocotools import mask as maskUtils\n",
    "\n",
    "import pathlib.Path as Path\n"
   ]
  },
  {
   "cell_type": "code",
   "execution_count": null,
   "metadata": {},
   "outputs": [],
   "source": [
    "def myAnnToRLE(h, w, segm):\n",
    "    if type(segm) == list:\n",
    "        # polygon -- a single object might consist of multiple parts\n",
    "        # we merge all parts into one mask rle code\n",
    "        rles = maskUtils.frPyObjects(segm, h, w)\n",
    "        rle = maskUtils.merge(rles)\n",
    "    elif type(segm['counts']) == list:\n",
    "        # uncompressed RLE\n",
    "        rle = maskUtils.frPyObjects(segm, h, w)\n",
    "    else:\n",
    "        # rle\n",
    "        rle = segm\n",
    "    return rle\n"
   ]
  },
  {
   "cell_type": "code",
   "execution_count": null,
   "metadata": {},
   "outputs": [],
   "source": [
    "\n",
    "def myAnnToMask(h, w, segm):\n",
    "    \"\"\"\n",
    "    Convert annotation which can be polygons, uncompressed RLE, or RLE to binary mask.\n",
    "    :return: binary mask (numpy 2D array)\n",
    "    \"\"\"\n",
    "    rle = myAnnToRLE(h, w, segm)\n",
    "    m = maskUtils.decode(rle)\n",
    "    return m\n"
   ]
  },
  {
   "cell_type": "code",
   "execution_count": null,
   "metadata": {},
   "outputs": [],
   "source": [
    "\n",
    "def load_annotations(path, file_name):\n",
    "    with open(os.path.join(path, file_name), 'rb') as f:\n",
    "        data = json.load(f)\n",
    "    return data\n",
    "\n"
   ]
  },
  {
   "cell_type": "code",
   "execution_count": null,
   "metadata": {},
   "outputs": [],
   "source": [
    "\n",
    "def get_video_id_to_video_dict(data):\n",
    "    video_id_to_video = {}\n",
    "\n",
    "    for vid in data['videos']:\n",
    "        id = vid['id']\n",
    "        video_id_to_video[id] = vid\n",
    "\n",
    "    return video_id_to_video\n"
   ]
  },
  {
   "cell_type": "code",
   "execution_count": null,
   "metadata": {},
   "outputs": [],
   "source": [
    "\n",
    "\n",
    "def get_annotations_per_video(data):\n",
    "\n",
    "    anns_per_vid = {}\n",
    "\n",
    "    for ann in data['annotations']:\n",
    "        vid_id = ann['video_id']\n",
    "\n",
    "        if vid_id not in anns_per_vid:\n",
    "            anns_per_vid[vid_id] = []\n",
    "\n",
    "        anns_per_vid[vid_id].append(ann)\n",
    "\n",
    "    return anns_per_vid\n",
    "\n"
   ]
  },
  {
   "cell_type": "code",
   "execution_count": null,
   "metadata": {},
   "outputs": [],
   "source": [
    "\n",
    "def process_video(video, anns, images_path):\n",
    "\n",
    "    colormap = {}\n",
    "\n",
    "    for inst in anns:\n",
    "        id = inst['id']\n",
    "        colormap[id] = (random.randint(0, 255), random.randint(0, 255), random.randint(0, 255))\n",
    "\n",
    "    N = len(video['file_names'])\n",
    "\n",
    "    width = video['width']\n",
    "    height = video['height']\n",
    "    video_name = video['file_names'][0].split('/')[0] + \".mp4\"\n",
    "\n",
    "    fourcc = cv2.VideoWriter_fourcc(*'mp4v')\n",
    "    videoWriter = cv2.VideoWriter(video_name, fourcc, 10, (width, height))\n",
    "\n",
    "    for frame_idx in range(N):\n",
    "        frame_name = video['file_names'][frame_idx]\n",
    "\n",
    "        img = cv2.imread(os.path.join(images_path, frame_name))\n",
    "\n",
    "\n",
    "\n",
    "        mask = np.zeros((height,width,3), np.uint8)\n",
    "\n",
    "\n",
    "\n",
    "        for inst in anns:\n",
    "            bbox = inst['bboxes'][frame_idx]\n",
    "            id = inst['id']\n",
    "\n",
    "            segm = inst['segmentations'][frame_idx]\n",
    "\n",
    "\n",
    "\n",
    "            if bbox == None:\n",
    "                continue\n",
    "\n",
    "            x1 = int(bbox[0])\n",
    "            y1 = int(bbox[1])\n",
    "\n",
    "            x2 = x1 + int(bbox[2])\n",
    "            y2 = y1 + int(bbox[3])\n",
    "\n",
    "            start_point = (x1, y1)\n",
    "            end_point = (x2, y2)\n",
    "            color = colormap[id]\n",
    "            thickness = 2\n",
    "\n",
    "            # img = cv2.rectangle(img, start_point, end_point, color, thickness)\n",
    "\n",
    "            inst_mask = myAnnToMask(height, width, segm)\n",
    "\n",
    "            inst_mask_img = np.zeros((height,width,3), np.uint8)\n",
    "\n",
    "            inst_mask_img[:, :, 0] = inst_mask * color[0]\n",
    "            inst_mask_img[:, :, 1] = inst_mask * color[1]\n",
    "            inst_mask_img[:, :, 2] = inst_mask * color[2]\n",
    "\n",
    "            mask += inst_mask_img\n",
    "\n",
    "\n",
    "        img = cv2.addWeighted(img, 0.5, mask, 0.5, 0.0)\n",
    "\n",
    "        folder_name = frame_name.split('/')[0]\n",
    "        file_name = frame_name.split('/')[1]\n",
    "        folder_path = os.path.join(\"./out_frames\", folder_name)\n",
    "        if not os.path.exists(folder_path):\n",
    "            os.mkdir(folder_path)\n",
    "        cv2.imwrite(os.path.join(folder_path, file_name), img)\n",
    "\n",
    "        videoWriter.write(img)\n",
    "\n",
    "    videoWriter.release()\n",
    "\n"
   ]
  },
  {
   "cell_type": "code",
   "execution_count": null,
   "metadata": {},
   "outputs": [],
   "source": [
    "\n",
    "def parse_data(path, file_name):\n",
    "    anns = load_annotations(path, file_name)\n",
    "    videos = get_video_id_to_video_dict(anns)\n",
    "    anns_per_vid = get_annotations_per_video(anns)\n",
    "\n",
    "    return videos, anns_per_vid\n",
    "\n"
   ]
  },
  {
   "cell_type": "code",
   "execution_count": null,
   "metadata": {},
   "outputs": [],
   "source": [
    "data_path = Path(\"data\") / \"ytvis\"\n",
    "images_path = data_path / \"train\"/ \"JPEGImages\"\n",
    "file_name = 'train.json'"
   ]
  },
  {
   "cell_type": "code",
   "execution_count": null,
   "metadata": {},
   "outputs": [],
   "source": [
    "videos, anns_per_vid = parse_data(data_path, file_name)"
   ]
  },
  {
   "cell_type": "code",
   "execution_count": null,
   "metadata": {},
   "outputs": [],
   "source": [
    "for vid_id in videos:\n",
    "    vid = videos[vid_id]\n",
    "    vid_anns = anns_per_vid[vid_id]\n",
    "\n",
    "    process_video(vid, vid_anns, images_path)\n"
   ]
  }
 ],
 "metadata": {
  "kernelspec": {
   "display_name": "dsetStats",
   "language": "python",
   "name": "python3"
  },
  "language_info": {
   "name": "python",
   "version": "3.11.5"
  }
 },
 "nbformat": 4,
 "nbformat_minor": 2
}
