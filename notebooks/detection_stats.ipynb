{
 "cells": [
  {
   "cell_type": "markdown",
   "metadata": {},
   "source": [
    "# 1. Detection-stats\n",
    "\n",
    "To generate stats, we will read the summary files for different datasets in `summary folder`. The summary folder contains folders named after the dataset name. Each dataset folder contains summary files extacted by respective scripts. The summary files are in json format. We will read the json files and generate stats.\n",
    "\n",
    "We will generate per dataset stats and general stats combining all the datasets.\n",
    "\n",
    "Among the stats, we will generate the following:\n",
    "\n",
    "* [ ] 1. Number of images `all_ds`\n",
    "* [ ] 2. Number of objects `all_ds`\n",
    "* [ ] 3. Number of classes `all_ds`\n",
    "* [ ] 4. Number of instances per class `per_ds` \n",
    "* [ ] 5. Average number of instances per image `all_ds` \n",
    "<!-- * [ ] 6. Bounding box area distribution `all_ds` -->\n",
    "\n",
    "\n",
    "The results will be saved in summaries in respective dataset folders."
   ]
  },
  {
   "cell_type": "code",
   "execution_count": 1,
   "metadata": {},
   "outputs": [],
   "source": [
    "# expose parent directory to import modules\n",
    "import os\n",
    "import sys\n",
    "\n",
    "sys.path.insert(0,os.path.abspath(os.path.join('..')))\n",
    "os.chdir('..')"
   ]
  },
  {
   "cell_type": "code",
   "execution_count": null,
   "metadata": {},
   "outputs": [],
   "source": []
  },
  {
   "cell_type": "code",
   "execution_count": 2,
   "metadata": {},
   "outputs": [
    {
     "name": "stderr",
     "output_type": "stream",
     "text": [
      "/home/nalain/miniconda3/envs/dsetStats/lib/python3.11/site-packages/tqdm/auto.py:21: TqdmWarning: IProgress not found. Please update jupyter and ipywidgets. See https://ipywidgets.readthedocs.io/en/stable/user_install.html\n",
      "  from .autonotebook import tqdm as notebook_tqdm\n"
     ]
    }
   ],
   "source": [
    "\n",
    "\n",
    "# import libraries\n",
    "import numpy as np\n",
    "import pandas as pd\n",
    "import matplotlib.pyplot as plt\n",
    "import seaborn as sns\n",
    "import scipy.stats as stats\n",
    "from pathlib import Path\n",
    "import json\n",
    "import warnings\n",
    "from collections import defaultdict\n",
    "sns.set()\n",
    "\n",
    "from utils import stats_tools\n",
    "warnings.filterwarnings('ignore')"
   ]
  },
  {
   "cell_type": "code",
   "execution_count": 3,
   "metadata": {},
   "outputs": [],
   "source": [
    "# set up paths\n",
    "# current_dir = Path(os.getcwd())/\"..\"\n",
    "# summaries_path = current_dir / 'summaries'\n",
    "summaries_path = Path('./summaries')\n",
    "summaries_path.mkdir(parents=True, exist_ok=True)"
   ]
  },
  {
   "cell_type": "code",
   "execution_count": 4,
   "metadata": {},
   "outputs": [],
   "source": [
    "# get dataset to file paths\n",
    "dataset_to_file_paths = stats_tools.get_dataset_to_file_paths(str(summaries_path))\n",
    "\n",
    "# len(dataset_to_file_paths), dataset_to_file_paths"
   ]
  },
  {
   "cell_type": "code",
   "execution_count": 5,
   "metadata": {},
   "outputs": [],
   "source": [
    "\n",
    "global_summary_plain_value_cols_df = pd.DataFrame()\n",
    "global_summary_images_stats = pd.DataFrame()\n",
    "global_summary_masks_stats = pd.DataFrame()\n",
    "global_areas_ranges_stats = defaultdict(list)\n",
    "# global_boxes_general_stats = defaultdict(list)\n",
    "\n",
    "for dataset_name, file_path in dataset_to_file_paths.items():\n",
    "    \n",
    "    print(\"*\"*20 + f\"{dataset_name}\" + \"*\"*20)\n",
    "    # load data\n",
    "    summary = stats_tools.load_summary(file_path=file_path)\n",
    "    dataset_to_summary = {dataset_name: summary}\n",
    "\n",
    "    # plain-common-stats-stats-plots-save\n",
    "    all_columns = list(summary.keys())\n",
    "    plain_value_cols = {}\n",
    "    plain_value_cols[\"dataset_name\"] = dataset_name\n",
    "    plain_value_cols.update({ k:v for (k,v) in summary.items() if not isinstance(summary[k], (list, dict))})\n",
    "    plain_value_cols_df=pd.DataFrame(plain_value_cols, index=[0])\n",
    "    global_summary_plain_value_cols_df=stats_tools.merge_df(df1=global_summary_plain_value_cols_df, \n",
    "                                                            df2=plain_value_cols_df)\n",
    "    \n",
    "    #summarize _categories_stats for each dataset\n",
    "    stats_tools.summarize_category_stats(dataset_name=dataset_name,\n",
    "                                         _categories_stats = summary['_categories_stats'],\n",
    "                                         save_path=summaries_path)\n",
    "    \n",
    "    # summarize_images_stats\n",
    "    _images_stats_df = pd.DataFrame({\"dataset_name\":dataset_name, **summary['_images_stats']}, index=[0])\n",
    "    global_summary_images_stats=stats_tools.merge_df(df1=global_summary_images_stats, \n",
    "                                                            df2=_images_stats_df)\n",
    "    \n",
    "    # summarize _masks_stats\n",
    "    _masks_stats_df = pd.DataFrame({\"dataset_name\":dataset_name, **summary['_masks_stats']}, index=[0])\n",
    "    global_summary_masks_stats=stats_tools.merge_df(df1=global_summary_masks_stats, \n",
    "                                                            df2=_masks_stats_df)\n",
    "\n",
    "    # skydata/coco sizes boxes boxes stats\n",
    "    ## \n",
    "    boxes_stats=summary['_boxes_stats']\n",
    "    areas_ranges_stats=boxes_stats['areas_ranges_stats']\n",
    "\n",
    "    global_areas_ranges_stats[\"dataset_name\"].append(dataset_name)\n",
    "    [global_areas_ranges_stats[k].append(v) for k,v in areas_ranges_stats.items()]\n",
    "\n",
    "    ## per datasets ratios stats\n",
    "    _ratios={\"dataset_name\":dataset_name, \n",
    "             \"ratios_hist\":summary['_boxes_stats']['ratios_hist']}\n",
    "    stats_tools.plot_save_per_dataset_ratios_hist(_ratios=_ratios,\n",
    "                                                    save_path=summaries_path/dataset_name/'plots',\n",
    "                                                    file_name=f'{dataset_name}_ratios_hist')\n",
    "    "
   ]
  },
  {
   "cell_type": "code",
   "execution_count": 6,
   "metadata": {},
   "outputs": [
    {
     "name": "stdout",
     "output_type": "stream",
     "text": [
      "[INFO] Saving all_datasets\n",
      "[INFO] Saved _plain_value_global.csv\n",
      "[INFO] Global images stats ....\n"
     ]
    },
    {
     "ename": "KeyError",
     "evalue": "'dataset_name'",
     "output_type": "error",
     "traceback": [
      "\u001b[0;31m---------------------------------------------------------------------------\u001b[0m",
      "\u001b[0;31mKeyError\u001b[0m                                  Traceback (most recent call last)",
      "\u001b[1;32m/home/nalain/nalain-labs/ozerlabs/DatasetsStatistics/notebooks/detection_stats.ipynb Cell 8\u001b[0m line \u001b[0;36m1\n\u001b[1;32m      <a href='vscode-notebook-cell:/home/nalain/nalain-labs/ozerlabs/DatasetsStatistics/notebooks/detection_stats.ipynb#W6sZmlsZQ%3D%3D?line=3'>4</a>\u001b[0m stats_tools\u001b[39m.\u001b[39msave_df_to_csv(df\u001b[39m=\u001b[39mglobal_summary_plain_value_cols_df,\n\u001b[1;32m      <a href='vscode-notebook-cell:/home/nalain/nalain-labs/ozerlabs/DatasetsStatistics/notebooks/detection_stats.ipynb#W6sZmlsZQ%3D%3D?line=4'>5</a>\u001b[0m                             save_path\u001b[39m=\u001b[39msummaries_path\u001b[39m/\u001b[39m\u001b[39m'\u001b[39m\u001b[39mall_datasets\u001b[39m\u001b[39m'\u001b[39m,\n\u001b[1;32m      <a href='vscode-notebook-cell:/home/nalain/nalain-labs/ozerlabs/DatasetsStatistics/notebooks/detection_stats.ipynb#W6sZmlsZQ%3D%3D?line=5'>6</a>\u001b[0m                             file_name\u001b[39m=\u001b[39m\u001b[39m'\u001b[39m\u001b[39m_plain_value_global.csv\u001b[39m\u001b[39m'\u001b[39m)\n\u001b[1;32m      <a href='vscode-notebook-cell:/home/nalain/nalain-labs/ozerlabs/DatasetsStatistics/notebooks/detection_stats.ipynb#W6sZmlsZQ%3D%3D?line=8'>9</a>\u001b[0m \u001b[39m## global_summary_images_stats save to csv\u001b[39;00m\n\u001b[0;32m---> <a href='vscode-notebook-cell:/home/nalain/nalain-labs/ozerlabs/DatasetsStatistics/notebooks/detection_stats.ipynb#W6sZmlsZQ%3D%3D?line=9'>10</a>\u001b[0m stats_tools\u001b[39m.\u001b[39;49msummarize_global_images_plot_and_save(global_summary_images_stats\u001b[39m=\u001b[39;49mglobal_summary_images_stats,\n\u001b[1;32m     <a href='vscode-notebook-cell:/home/nalain/nalain-labs/ozerlabs/DatasetsStatistics/notebooks/detection_stats.ipynb#W6sZmlsZQ%3D%3D?line=10'>11</a>\u001b[0m                                                   save_path\u001b[39m=\u001b[39;49msummaries_path\u001b[39m/\u001b[39;49m\u001b[39m'\u001b[39;49m\u001b[39mall_datasets\u001b[39;49m\u001b[39m'\u001b[39;49m,\n\u001b[1;32m     <a href='vscode-notebook-cell:/home/nalain/nalain-labs/ozerlabs/DatasetsStatistics/notebooks/detection_stats.ipynb#W6sZmlsZQ%3D%3D?line=11'>12</a>\u001b[0m                                                   file_name\u001b[39m=\u001b[39;49m\u001b[39m'\u001b[39;49m\u001b[39m_images_stats_global\u001b[39;49m\u001b[39m'\u001b[39;49m)\n\u001b[1;32m     <a href='vscode-notebook-cell:/home/nalain/nalain-labs/ozerlabs/DatasetsStatistics/notebooks/detection_stats.ipynb#W6sZmlsZQ%3D%3D?line=13'>14</a>\u001b[0m \u001b[39m## global_summary_masks_stats save to csv\u001b[39;00m\n\u001b[1;32m     <a href='vscode-notebook-cell:/home/nalain/nalain-labs/ozerlabs/DatasetsStatistics/notebooks/detection_stats.ipynb#W6sZmlsZQ%3D%3D?line=14'>15</a>\u001b[0m stats_tools\u001b[39m.\u001b[39msummarize_global_summary_masks_stats_plot_and_save(global_summary_masks_stats\u001b[39m=\u001b[39mglobal_summary_masks_stats,\n\u001b[1;32m     <a href='vscode-notebook-cell:/home/nalain/nalain-labs/ozerlabs/DatasetsStatistics/notebooks/detection_stats.ipynb#W6sZmlsZQ%3D%3D?line=15'>16</a>\u001b[0m                                                   save_path\u001b[39m=\u001b[39msummaries_path\u001b[39m/\u001b[39m\u001b[39m'\u001b[39m\u001b[39mall_datasets\u001b[39m\u001b[39m'\u001b[39m,\n\u001b[1;32m     <a href='vscode-notebook-cell:/home/nalain/nalain-labs/ozerlabs/DatasetsStatistics/notebooks/detection_stats.ipynb#W6sZmlsZQ%3D%3D?line=16'>17</a>\u001b[0m                                                   file_name\u001b[39m=\u001b[39m\u001b[39m'\u001b[39m\u001b[39m_masks_stats_global\u001b[39m\u001b[39m'\u001b[39m)\n",
      "File \u001b[0;32m~/nalain-labs/ozerlabs/DatasetsStatistics/utils/stats_tools.py:116\u001b[0m, in \u001b[0;36msummarize_global_images_plot_and_save\u001b[0;34m(global_summary_images_stats, save_path, file_name)\u001b[0m\n\u001b[1;32m    114\u001b[0m save_path \u001b[39m=\u001b[39m Path(save_path)\n\u001b[1;32m    115\u001b[0m save_path\u001b[39m.\u001b[39mmkdir(parents\u001b[39m=\u001b[39m\u001b[39mTrue\u001b[39;00m, exist_ok\u001b[39m=\u001b[39m\u001b[39mTrue\u001b[39;00m)\n\u001b[0;32m--> 116\u001b[0m global_summary_images_stats\u001b[39m.\u001b[39;49mplot(kind\u001b[39m=\u001b[39;49m\u001b[39m'\u001b[39;49m\u001b[39mbar\u001b[39;49m\u001b[39m'\u001b[39;49m, \n\u001b[1;32m    117\u001b[0m                                 figsize\u001b[39m=\u001b[39;49m(\u001b[39m15\u001b[39;49m,\u001b[39m10\u001b[39;49m), \n\u001b[1;32m    118\u001b[0m                                 x\u001b[39m=\u001b[39;49m\u001b[39m'\u001b[39;49m\u001b[39mdataset_name\u001b[39;49m\u001b[39m'\u001b[39;49m,\n\u001b[1;32m    119\u001b[0m                                 title\u001b[39m=\u001b[39;49m\u001b[39m'\u001b[39;49m\u001b[39mimages_stats\u001b[39;49m\u001b[39m'\u001b[39;49m,\n\u001b[1;32m    120\u001b[0m                                 xlabel\u001b[39m=\u001b[39;49m\u001b[39m\"\u001b[39;49m\u001b[39m\"\u001b[39;49m,\n\u001b[1;32m    121\u001b[0m                                 )\n\u001b[1;32m    122\u001b[0m \u001b[39m# annotate with resolutions and number of images\u001b[39;00m\n\u001b[1;32m    123\u001b[0m \u001b[39mfor\u001b[39;00m i, row \u001b[39min\u001b[39;00m global_summary_images_stats\u001b[39m.\u001b[39miterrows():\n",
      "File \u001b[0;32m~/miniconda3/envs/dsetStats/lib/python3.11/site-packages/pandas/plotting/_core.py:940\u001b[0m, in \u001b[0;36mPlotAccessor.__call__\u001b[0;34m(self, *args, **kwargs)\u001b[0m\n\u001b[1;32m    938\u001b[0m \u001b[39mif\u001b[39;00m is_integer(x) \u001b[39mand\u001b[39;00m \u001b[39mnot\u001b[39;00m data\u001b[39m.\u001b[39mcolumns\u001b[39m.\u001b[39m_holds_integer():\n\u001b[1;32m    939\u001b[0m     x \u001b[39m=\u001b[39m data_cols[x]\n\u001b[0;32m--> 940\u001b[0m \u001b[39melif\u001b[39;00m \u001b[39mnot\u001b[39;00m \u001b[39misinstance\u001b[39m(data[x], ABCSeries):\n\u001b[1;32m    941\u001b[0m     \u001b[39mraise\u001b[39;00m \u001b[39mValueError\u001b[39;00m(\u001b[39m\"\u001b[39m\u001b[39mx must be a label or position\u001b[39m\u001b[39m\"\u001b[39m)\n\u001b[1;32m    942\u001b[0m data \u001b[39m=\u001b[39m data\u001b[39m.\u001b[39mset_index(x)\n",
      "File \u001b[0;32m~/miniconda3/envs/dsetStats/lib/python3.11/site-packages/pandas/core/frame.py:3761\u001b[0m, in \u001b[0;36mDataFrame.__getitem__\u001b[0;34m(self, key)\u001b[0m\n\u001b[1;32m   3759\u001b[0m \u001b[39mif\u001b[39;00m \u001b[39mself\u001b[39m\u001b[39m.\u001b[39mcolumns\u001b[39m.\u001b[39mnlevels \u001b[39m>\u001b[39m \u001b[39m1\u001b[39m:\n\u001b[1;32m   3760\u001b[0m     \u001b[39mreturn\u001b[39;00m \u001b[39mself\u001b[39m\u001b[39m.\u001b[39m_getitem_multilevel(key)\n\u001b[0;32m-> 3761\u001b[0m indexer \u001b[39m=\u001b[39m \u001b[39mself\u001b[39;49m\u001b[39m.\u001b[39;49mcolumns\u001b[39m.\u001b[39;49mget_loc(key)\n\u001b[1;32m   3762\u001b[0m \u001b[39mif\u001b[39;00m is_integer(indexer):\n\u001b[1;32m   3763\u001b[0m     indexer \u001b[39m=\u001b[39m [indexer]\n",
      "File \u001b[0;32m~/miniconda3/envs/dsetStats/lib/python3.11/site-packages/pandas/core/indexes/range.py:349\u001b[0m, in \u001b[0;36mRangeIndex.get_loc\u001b[0;34m(self, key)\u001b[0m\n\u001b[1;32m    347\u001b[0m         \u001b[39mraise\u001b[39;00m \u001b[39mKeyError\u001b[39;00m(key) \u001b[39mfrom\u001b[39;00m \u001b[39merr\u001b[39;00m\n\u001b[1;32m    348\u001b[0m \u001b[39mif\u001b[39;00m \u001b[39misinstance\u001b[39m(key, Hashable):\n\u001b[0;32m--> 349\u001b[0m     \u001b[39mraise\u001b[39;00m \u001b[39mKeyError\u001b[39;00m(key)\n\u001b[1;32m    350\u001b[0m \u001b[39mself\u001b[39m\u001b[39m.\u001b[39m_check_indexing_error(key)\n\u001b[1;32m    351\u001b[0m \u001b[39mraise\u001b[39;00m \u001b[39mKeyError\u001b[39;00m(key)\n",
      "\u001b[0;31mKeyError\u001b[0m: 'dataset_name'"
     ]
    }
   ],
   "source": [
    "# plot generals and save stats\n",
    "\n",
    "## global_summary_plain_value_cols_df save to csv\n",
    "stats_tools.save_df_to_csv(df=global_summary_plain_value_cols_df,\n",
    "                            save_path=summaries_path/'all_datasets',\n",
    "                            file_name='_plain_value_global.csv')\n",
    "\n",
    "\n",
    "## global_summary_images_stats save to csv\n",
    "stats_tools.summarize_global_images_plot_and_save(global_summary_images_stats=global_summary_images_stats,\n",
    "                                                  save_path=summaries_path/'all_datasets',\n",
    "                                                  file_name='_images_stats_global')\n",
    "\n",
    "## global_summary_masks_stats save to csv\n",
    "stats_tools.summarize_global_summary_masks_stats_plot_and_save(global_summary_masks_stats=global_summary_masks_stats,\n",
    "                                                  save_path=summaries_path/'all_datasets',\n",
    "                                                  file_name='_masks_stats_global')\n",
    "\n",
    "# ## global_areas_ranges_stats save to csv\n",
    "stats_tools.summarize_global_areas_ranges_stats_plot_and_save(global_areas_ranges_stats_df=global_areas_ranges_stats,\n",
    "                                                  save_path=summaries_path/'all_datasets',\n",
    "                                                  file_name='_areas_ranges_stats_global')"
   ]
  }
 ],
 "metadata": {
  "kernelspec": {
   "display_name": "dsetStats",
   "language": "python",
   "name": "python3"
  },
  "language_info": {
   "codemirror_mode": {
    "name": "ipython",
    "version": 3
   },
   "file_extension": ".py",
   "mimetype": "text/x-python",
   "name": "python",
   "nbconvert_exporter": "python",
   "pygments_lexer": "ipython3",
   "version": "3.11.5"
  },
  "orig_nbformat": 4
 },
 "nbformat": 4,
 "nbformat_minor": 2
}
