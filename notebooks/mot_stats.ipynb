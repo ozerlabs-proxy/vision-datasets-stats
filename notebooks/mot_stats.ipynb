{
 "cells": [
  {
   "cell_type": "markdown",
   "metadata": {},
   "source": [
    "# 1. VIS-stats\n",
    "generate video instance segmentation (VIS) stats for a video datasets\n"
   ]
  },
  {
   "cell_type": "code",
   "execution_count": null,
   "metadata": {},
   "outputs": [],
   "source": [
    "# expose parent directory to import modules\n",
    "import os\n",
    "import sys\n",
    "\n",
    "ROOT_DIR = os.getcwd()\n",
    "while os.path.basename(ROOT_DIR) != 'DatasetsStatistics':\n",
    "    ROOT_DIR = os.path.abspath(os.path.join(ROOT_DIR,'..'))\n",
    "sys.path.insert(0,ROOT_DIR)\n",
    "os.chdir(ROOT_DIR)\n",
    "\n",
    "TASK = 'MOT'"
   ]
  },
  {
   "cell_type": "code",
   "execution_count": null,
   "metadata": {},
   "outputs": [],
   "source": [
    "\n",
    "\n",
    "# import libraries\n",
    "import numpy as np\n",
    "import pandas as pd\n",
    "import matplotlib.pyplot as plt\n",
    "import seaborn as sns\n",
    "import scipy.stats as stats\n",
    "from pathlib import Path\n",
    "import json\n",
    "import warnings\n",
    "from collections import defaultdict\n",
    "sns.set()\n",
    "\n",
    "from utils import stats_tools\n",
    "warnings.filterwarnings('ignore')"
   ]
  },
  {
   "cell_type": "code",
   "execution_count": null,
   "metadata": {},
   "outputs": [],
   "source": [
    "#\n",
    "\n",
    "summaries_path = Path('./summaries')\n",
    "summaries_path= summaries_path / TASK\n",
    "summaries_path.mkdir(parents=True, exist_ok=True)"
   ]
  },
  {
   "cell_type": "code",
   "execution_count": null,
   "metadata": {},
   "outputs": [],
   "source": [
    "# get dataset to file paths\n",
    "dataset_to_file_paths = stats_tools.get_dataset_to_file_paths(str(summaries_path))\n",
    "\n",
    "# len(dataset_to_file_paths), dataset_to_file_paths"
   ]
  },
  {
   "cell_type": "code",
   "execution_count": null,
   "metadata": {},
   "outputs": [],
   "source": [
    "dataset_to_file_paths"
   ]
  },
  {
   "cell_type": "code",
   "execution_count": null,
   "metadata": {},
   "outputs": [],
   "source": [
    "\n",
    "global_summary_plain_value_cols_df = pd.DataFrame()\n",
    "global_summary_videos_stats = pd.DataFrame()\n",
    "global_areas_ranges_stats = defaultdict(list)\n",
    "global_tracks_stats = defaultdict(list)\n",
    "\n",
    "for dataset_name, file_path in dataset_to_file_paths.items():\n",
    "    \n",
    "    print(\"*\"*20 + f\"{dataset_name}\" + \"*\"*20)\n",
    "    # load data\n",
    "    summary = stats_tools.load_summary(file_path=file_path)\n",
    "    dataset_to_summary = {dataset_name: summary}\n",
    "\n",
    "    # plain-common-stats-stats-plots-save\n",
    "    all_columns = list(summary.keys())\n",
    "    plain_value_cols = {}\n",
    "    plain_value_cols[\"dataset_name\"] = dataset_name\n",
    "    plain_value_cols.update({ k:v for (k,v) in summary.items() if not isinstance(summary[k], (list, dict))})\n",
    "    plain_value_cols.update(summary['info'])\n",
    "    plain_value_cols.update(summary['_general_stats'])\n",
    "    plain_value_cols.update(summary['tracks_stats'])\n",
    "    plain_value_cols.update({\n",
    "                        'categories_count': summary['_cats'][\"categories_count\"],\n",
    "                        'super_categories_count': summary['_cats'][\"super_categories_count\"]\n",
    "                        })\n",
    "    \n",
    "    plain_value_cols_df=pd.DataFrame(plain_value_cols, index=[0])\n",
    "    global_summary_plain_value_cols_df=stats_tools.merge_df(df1=global_summary_plain_value_cols_df, \n",
    "                                                            df2=plain_value_cols_df)\n",
    "    \n",
    "    #summarize _categories_stats for each dataset\n",
    "    stats_tools.plot_and_save_per_category_stats(per_category_stats = summary[\"_categories_stats\"],\n",
    "                                                    dataset_name = dataset_name, \n",
    "                                                    save_path = summaries_path)\n",
    "\n",
    "    ##skydata/coco sizes boxes boxes stats\n",
    "    # \n",
    "    boxes_stats=summary['_areas_stats']\n",
    "    areas_ranges_stats=boxes_stats['areas_stats']\n",
    "\n",
    "    global_areas_ranges_stats[\"dataset_name\"].append(dataset_name)\n",
    "    [global_areas_ranges_stats[k].append(v) for k,v in areas_ranges_stats.items()]\n",
    "    \n",
    "\n",
    "    # # summarize tracks\n",
    "    tracks_stats = summary['tracks_stats']\n",
    "    global_tracks_stats[\"dataset_name\"].append(dataset_name)\n",
    "    [global_tracks_stats[k].append(v) for k,v in tracks_stats.items()]\n",
    "    \n",
    "\n",
    "    "
   ]
  },
  {
   "cell_type": "code",
   "execution_count": null,
   "metadata": {},
   "outputs": [],
   "source": [
    "global_summary_plain_value_cols_df.columns"
   ]
  },
  {
   "cell_type": "code",
   "execution_count": null,
   "metadata": {},
   "outputs": [],
   "source": []
  },
  {
   "cell_type": "code",
   "execution_count": null,
   "metadata": {},
   "outputs": [],
   "source": [
    "# plot generals and save stats\n",
    "\n",
    "## global_summary_plain_value_cols_df save to csv\n",
    "stats_tools.save_df_to_csv(df=global_summary_plain_value_cols_df,\n",
    "                            save_path=summaries_path/'all_datasets',\n",
    "                            file_name='_plain_value_global.csv')\n",
    "\n",
    "# ## global_areas_ranges_stats save to csv\n",
    "stats_tools.summarize_global_areas_ranges_stats_plot_and_save(global_areas_ranges_stats_df=global_areas_ranges_stats,\n",
    "                                                    save_path=summaries_path/'all_datasets',\n",
    "                                                    file_name='_areas_ranges_stats_global')\n",
    "\n",
    "\n",
    "# ## global_tracks_stats save to csv\n",
    "stats_tools.summarize_global_tracks_stats_plot_and_save(global_tracks_stats_df=global_tracks_stats,\n",
    "                                                    save_path=summaries_path/'all_datasets',\n",
    "                                                    file_name='_tracks_stats_global')"
   ]
  },
  {
   "cell_type": "markdown",
   "metadata": {},
   "source": [
    "## Experimenting with plots"
   ]
  },
  {
   "cell_type": "code",
   "execution_count": 96,
   "metadata": {},
   "outputs": [],
   "source": [
    "\n",
    "import seaborn as sns\n",
    "import matplotlib.pyplot as plt\n"
   ]
  },
  {
   "cell_type": "markdown",
   "metadata": {},
   "source": [
    "**GENERAL STATS**"
   ]
  },
  {
   "cell_type": "code",
   "execution_count": 97,
   "metadata": {},
   "outputs": [],
   "source": [
    "# df.keys()\n",
    "# some plots\n",
    "df = global_summary_plain_value_cols_df"
   ]
  },
  {
   "cell_type": "code",
   "execution_count": 99,
   "metadata": {},
   "outputs": [],
   "source": [
    "\"\"\"\n",
    "sequence lengths\n",
    "\"\"\"\n",
    "# plot distributions\n",
    "\n",
    "# Create a grid of subplots\n",
    "fig, axes = plt.subplots(3, 3, figsize=(12, 8))\n",
    "fig.suptitle('Videos Stats per Dataset')\n",
    "\n",
    "interested_in =[ 'video_count', \n",
    "                'min_resolution', \n",
    "                'max_resolution', \n",
    "                'shortest_video', \n",
    "                'longest_video', \n",
    "                'average_video_length', \n",
    "                'min_track_length',\n",
    "                'max_track_length',\n",
    "                'average_tracks_per_video', \n",
    "                'categories_count',\n",
    "                'super_categories_count']\n",
    "\n",
    "rows = 3\n",
    "cols = 3\n",
    "for i in range(rows):\n",
    "    for j in range(cols):    \n",
    "        interested_idx = i*rows + j\n",
    "        interested = interested_in[interested_idx]\n",
    "        \n",
    "        if interested == 'video_count':\n",
    "            with sns.axes_style(\"whitegrid\"):\n",
    "                sns.barplot(data=df, x='dataset_name', y=f'{interested}', ax=axes[i, j])\n",
    "                axes[i, j].set_title(f'{interested}')\n",
    "                axes[i, j].set_xlabel('')\n",
    "                axes[i, j].set_ylabel(f'{interested}')\n",
    "                axes[i, j].tick_params(axis='x', rotation=90 , labelbottom=False)\n",
    "                axes[i, j].tick_params(axis='y', labelleft=False)\n",
    "        \n",
    "        else:            \n",
    "            with sns.axes_style(\"whitegrid\"):\n",
    "                sns.scatterplot(data=df, x='dataset_name', \n",
    "                                y=f'{interested}', \n",
    "                                ax=axes[i, j], \n",
    "                                hue=\"dataset_name\",\n",
    "                                size=interested,\n",
    "                                legend=False\n",
    "                                )\n",
    "                axes[i, j].set_title(f'{interested}')\n",
    "                axes[i, j].set_xlabel('')\n",
    "                axes[i, j].set_ylabel('')\n",
    "                axes[i, j].tick_params(axis='x', rotation=90, labelbottom=False)\n",
    "                axes[i, j].tick_params(axis='y', labelleft=False)\n",
    "\n",
    "\n",
    "# show ticks for the last row\n",
    "for j in range(cols):\n",
    "    axes[rows-1, j].tick_params(axis='x', rotation=90, labelbottom=True)\n",
    "\n",
    "# Adjust spacing\n",
    "plt.tight_layout()\n",
    "# Show the plots\n",
    "# plt.show()\n",
    "\n",
    "\n",
    "file_name = f'{TASK}_general_stats'\n",
    "save_path = Path(\"summaries/showcase\")\n",
    "save_path.mkdir(parents=True, exist_ok=True)\n",
    "plt.savefig(str(save_path/f'{file_name}.png'), dpi=300, bbox_inches='tight')\n",
    "plt.close()\n"
   ]
  },
  {
   "cell_type": "markdown",
   "metadata": {},
   "source": [
    "**AREAS STATS**"
   ]
  },
  {
   "cell_type": "code",
   "execution_count": null,
   "metadata": {},
   "outputs": [],
   "source": [
    "# some plots\n",
    "df = global_summary_plain_value_cols_df"
   ]
  }
 ],
 "metadata": {
  "kernelspec": {
   "display_name": "dsetStats",
   "language": "python",
   "name": "python3"
  },
  "language_info": {
   "codemirror_mode": {
    "name": "ipython",
    "version": 3
   },
   "file_extension": ".py",
   "mimetype": "text/x-python",
   "name": "python",
   "nbconvert_exporter": "python",
   "pygments_lexer": "ipython3",
   "version": "3.11.5"
  },
  "orig_nbformat": 4
 },
 "nbformat": 4,
 "nbformat_minor": 2
}
