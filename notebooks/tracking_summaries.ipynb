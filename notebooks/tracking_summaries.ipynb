{
 "cells": [
  {
   "cell_type": "markdown",
   "metadata": {},
   "source": [
    "# Tracking Datasets\n",
    "\n",
    "All dataset will have classes that read annotations. The dataset class needs to extend our custom `BaseDatasetTracking` class. \n",
    "\n",
    "The `BaseDatasetTracking` class has the following methods:\n",
    "\n",
    "* `generate_dataset_statistics`: generates a summary of the dataset (e.g. number of videos, number of annotations, etc.)\n",
    "* `save_dataset_statistics`: saves the summary to a `json` file\n",
    "\n",
    "\n"
   ]
  },
  {
   "cell_type": "code",
   "execution_count": 1,
   "metadata": {},
   "outputs": [],
   "source": [
    "# expose parent directory to import modules\n",
    "import os\n",
    "import sys\n",
    "\n",
    "ROOT_DIR = os.getcwd()\n",
    "while os.path.basename(ROOT_DIR) != 'DatasetsStatistics':\n",
    "    ROOT_DIR = os.path.abspath(os.path.join(ROOT_DIR,'..'))\n",
    "sys.path.insert(0,ROOT_DIR)\n",
    "os.chdir(ROOT_DIR)"
   ]
  },
  {
   "cell_type": "code",
   "execution_count": 2,
   "metadata": {},
   "outputs": [],
   "source": [
    "TASK='Tracking'"
   ]
  },
  {
   "cell_type": "markdown",
   "metadata": {},
   "source": [
    "## **1. YTvis dataset**\n",
    "\n",
    "``` python\n",
    "\n",
    "```"
   ]
  },
  {
   "cell_type": "code",
   "execution_count": 3,
   "metadata": {},
   "outputs": [
    {
     "name": "stdout",
     "output_type": "stream",
     "text": [
      "[INFO] loading annotations into memory...\n",
      "Done (t=5.13s)\n",
      "creating index...\n"
     ]
    },
    {
     "ename": "KeyError",
     "evalue": "'image_id'",
     "output_type": "error",
     "traceback": [
      "\u001b[0;31m---------------------------------------------------------------------------\u001b[0m",
      "\u001b[0;31mKeyError\u001b[0m                                  Traceback (most recent call last)",
      "\u001b[1;32m/home/nalain/nalain-labs/ozerlabs/DatasetsStatistics/notebooks/tracking_summaries.ipynb Cell 5\u001b[0m line \u001b[0;36m1\n\u001b[1;32m      <a href='vscode-notebook-cell:/home/nalain/nalain-labs/ozerlabs/DatasetsStatistics/notebooks/tracking_summaries.ipynb#X23sZmlsZQ%3D%3D?line=8'>9</a>\u001b[0m subset \u001b[39m=\u001b[39m \u001b[39mf\u001b[39m\u001b[39m\"\u001b[39m\u001b[39minstances_\u001b[39m\u001b[39m{\u001b[39;00msplit\u001b[39m}\u001b[39;00m\u001b[39m_sub\u001b[39m\u001b[39m\"\u001b[39m\n\u001b[1;32m     <a href='vscode-notebook-cell:/home/nalain/nalain-labs/ozerlabs/DatasetsStatistics/notebooks/tracking_summaries.ipynb#X23sZmlsZQ%3D%3D?line=9'>10</a>\u001b[0m annotiation_file \u001b[39m=\u001b[39m Path(\u001b[39mf\u001b[39m\u001b[39m\"\u001b[39m\u001b[39m./data/\u001b[39m\u001b[39m{\u001b[39;00mdataset_stem\u001b[39m}\u001b[39;00m\u001b[39m/annotations/\u001b[39m\u001b[39m{\u001b[39;00msubset\u001b[39m}\u001b[39;00m\u001b[39m.json\u001b[39m\u001b[39m\"\u001b[39m)\n\u001b[0;32m---> <a href='vscode-notebook-cell:/home/nalain/nalain-labs/ozerlabs/DatasetsStatistics/notebooks/tracking_summaries.ipynb#X23sZmlsZQ%3D%3D?line=10'>11</a>\u001b[0m D \u001b[39m=\u001b[39m YoutubeVisDataset(annotation_file\u001b[39m=\u001b[39;49m\u001b[39mstr\u001b[39;49m(annotiation_file))\n\u001b[1;32m     <a href='vscode-notebook-cell:/home/nalain/nalain-labs/ozerlabs/DatasetsStatistics/notebooks/tracking_summaries.ipynb#X23sZmlsZQ%3D%3D?line=12'>13</a>\u001b[0m \u001b[39m# # generate and load stats\u001b[39;00m\n\u001b[1;32m     <a href='vscode-notebook-cell:/home/nalain/nalain-labs/ozerlabs/DatasetsStatistics/notebooks/tracking_summaries.ipynb#X23sZmlsZQ%3D%3D?line=13'>14</a>\u001b[0m \u001b[39m# D.generate_dataset_statistics()\u001b[39;00m\n\u001b[1;32m     <a href='vscode-notebook-cell:/home/nalain/nalain-labs/ozerlabs/DatasetsStatistics/notebooks/tracking_summaries.ipynb#X23sZmlsZQ%3D%3D?line=14'>15</a>\u001b[0m \n\u001b[0;32m   (...)\u001b[0m\n\u001b[1;32m     <a href='vscode-notebook-cell:/home/nalain/nalain-labs/ozerlabs/DatasetsStatistics/notebooks/tracking_summaries.ipynb#X23sZmlsZQ%3D%3D?line=18'>19</a>\u001b[0m \u001b[39m#                             file_name = f\"{subset}_stats.json\"\u001b[39;00m\n\u001b[1;32m     <a href='vscode-notebook-cell:/home/nalain/nalain-labs/ozerlabs/DatasetsStatistics/notebooks/tracking_summaries.ipynb#X23sZmlsZQ%3D%3D?line=19'>20</a>\u001b[0m \u001b[39m#                             )\u001b[39;00m\n",
      "File \u001b[0;32m~/nalain-labs/ozerlabs/DatasetsStatistics/bases/youtube_vis_dataset.py:50\u001b[0m, in \u001b[0;36mYoutubeVisDataset.__init__\u001b[0;34m(self, annotation_file)\u001b[0m\n\u001b[1;32m     48\u001b[0m     \u001b[39mprint\u001b[39m(\u001b[39m'\u001b[39m\u001b[39mDone (t=\u001b[39m\u001b[39m{:0.2f}\u001b[39;00m\u001b[39ms)\u001b[39m\u001b[39m'\u001b[39m\u001b[39m.\u001b[39mformat(time\u001b[39m.\u001b[39mtime()\u001b[39m-\u001b[39m tic))\n\u001b[1;32m     49\u001b[0m     \u001b[39mself\u001b[39m\u001b[39m.\u001b[39mdataset \u001b[39m=\u001b[39m dataset\n\u001b[0;32m---> 50\u001b[0m     \u001b[39mself\u001b[39;49m\u001b[39m.\u001b[39;49mcreateIndex()\n\u001b[1;32m     52\u001b[0m \u001b[39mdef\u001b[39;00m \u001b[39mgenerate_dataset_statistics\u001b[39m(\u001b[39mself\u001b[39m):\n\u001b[1;32m     53\u001b[0m \u001b[39m    \u001b[39m\u001b[39m\"\"\"\u001b[39;00m\n\u001b[1;32m     54\u001b[0m \u001b[39m        This function generates the dataset statistics. including: counts.\u001b[39;00m\n\u001b[1;32m     55\u001b[0m \u001b[39m        The statistics are saved in a dictionary with keys as the tags and values as the statistics.\u001b[39;00m\n\u001b[1;32m     56\u001b[0m \u001b[39m    \"\"\"\u001b[39;00m\n",
      "File \u001b[0;32m~/nalain-labs/ozerlabs/DatasetsStatistics/bases/youtube_vis_dataset.py:85\u001b[0m, in \u001b[0;36mYoutubeVisDataset.createIndex\u001b[0;34m(self)\u001b[0m\n\u001b[1;32m     83\u001b[0m \u001b[39mif\u001b[39;00m \u001b[39m'\u001b[39m\u001b[39mannotations\u001b[39m\u001b[39m'\u001b[39m \u001b[39min\u001b[39;00m \u001b[39mself\u001b[39m\u001b[39m.\u001b[39mdataset:\n\u001b[1;32m     84\u001b[0m     \u001b[39mfor\u001b[39;00m ann \u001b[39min\u001b[39;00m \u001b[39mself\u001b[39m\u001b[39m.\u001b[39mdataset[\u001b[39m'\u001b[39m\u001b[39mannotations\u001b[39m\u001b[39m'\u001b[39m]:\n\u001b[0;32m---> 85\u001b[0m         imgToAnns[ann[\u001b[39m'\u001b[39;49m\u001b[39mimage_id\u001b[39;49m\u001b[39m'\u001b[39;49m]]\u001b[39m.\u001b[39mappend(ann)\n\u001b[1;32m     86\u001b[0m         anns[ann[\u001b[39m'\u001b[39m\u001b[39mid\u001b[39m\u001b[39m'\u001b[39m]] \u001b[39m=\u001b[39m ann\n\u001b[1;32m     87\u001b[0m         \u001b[39mif\u001b[39;00m \u001b[39m'\u001b[39m\u001b[39minstance_id\u001b[39m\u001b[39m'\u001b[39m \u001b[39min\u001b[39;00m ann:\n",
      "\u001b[0;31mKeyError\u001b[0m: 'image_id'"
     ]
    }
   ],
   "source": [
    "\n",
    "## 1. YTvis dataset\n",
    "\n",
    "from bases.youtube_vis_dataset import YoutubeVisDataset\n",
    "from pathlib import Path\n",
    "\n",
    "dataset_year = 2019\n",
    "dataset_stem = f\"ytvis_{dataset_year}\"\n",
    "split = \"train\"\n",
    "subset = f\"instances_{split}_sub\"\n",
    "annotiation_file = Path(f\"./data/{dataset_stem}/annotations/{subset}.json\")\n",
    "D = YoutubeVisDataset(annotation_file=str(annotiation_file))\n",
    "\n",
    "# # generate and load stats\n",
    "# D.generate_dataset_statistics()\n",
    "\n",
    "# # save the stats\n",
    "# D.save_dataset_statistics(save_path = f\"./summaries/{TASK}\",\n",
    "#                             dataset_name = f\"coco{coco_year}\",\n",
    "#                             file_name = f\"{subset}_stats.json\"\n",
    "#                             )\n"
   ]
  }
 ],
 "metadata": {
  "kernelspec": {
   "display_name": "dsetStats",
   "language": "python",
   "name": "python3"
  },
  "language_info": {
   "codemirror_mode": {
    "name": "ipython",
    "version": 3
   },
   "file_extension": ".py",
   "mimetype": "text/x-python",
   "name": "python",
   "nbconvert_exporter": "python",
   "pygments_lexer": "ipython3",
   "version": "3.11.5"
  },
  "orig_nbformat": 4
 },
 "nbformat": 4,
 "nbformat_minor": 2
}
