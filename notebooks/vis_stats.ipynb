{
 "cells": [
  {
   "cell_type": "markdown",
   "metadata": {},
   "source": [
    "# 1. VIS-stats\n",
    "generate video instance segmentation (VIS) stats for a video datasets\n"
   ]
  },
  {
   "cell_type": "code",
   "execution_count": 1,
   "metadata": {},
   "outputs": [],
   "source": [
    "# expose parent directory to import modules\n",
    "import os\n",
    "import sys\n",
    "\n",
    "ROOT_DIR = os.getcwd()\n",
    "while os.path.basename(ROOT_DIR) != 'DatasetsStatistics':\n",
    "    ROOT_DIR = os.path.abspath(os.path.join(ROOT_DIR,'..'))\n",
    "sys.path.insert(0,ROOT_DIR)\n",
    "os.chdir(ROOT_DIR)\n",
    "\n",
    "TASK = 'VIS'"
   ]
  },
  {
   "cell_type": "code",
   "execution_count": 2,
   "metadata": {},
   "outputs": [],
   "source": [
    "\n",
    "\n",
    "# import libraries\n",
    "import numpy as np\n",
    "import pandas as pd\n",
    "import matplotlib.pyplot as plt\n",
    "import seaborn as sns\n",
    "import scipy.stats as stats\n",
    "from pathlib import Path\n",
    "import json\n",
    "import warnings\n",
    "from collections import defaultdict\n",
    "sns.set()\n",
    "\n",
    "from utils import stats_tools\n",
    "warnings.filterwarnings('ignore')"
   ]
  },
  {
   "cell_type": "code",
   "execution_count": 3,
   "metadata": {},
   "outputs": [],
   "source": [
    "#\n",
    "\n",
    "summaries_path = Path('./summaries')\n",
    "summaries_path= summaries_path / TASK\n",
    "summaries_path.mkdir(parents=True, exist_ok=True)"
   ]
  },
  {
   "cell_type": "code",
   "execution_count": 4,
   "metadata": {},
   "outputs": [],
   "source": [
    "# get dataset to file paths\n",
    "dataset_to_file_paths = stats_tools.get_dataset_to_file_paths(str(summaries_path))\n",
    "\n",
    "# len(dataset_to_file_paths), dataset_to_file_paths"
   ]
  },
  {
   "cell_type": "code",
   "execution_count": 5,
   "metadata": {},
   "outputs": [
    {
     "data": {
      "text/plain": [
       "{'ytvis_2019': PosixPath('summaries/VIS/ytvis_2019/instances_train_sub_stats.json')}"
      ]
     },
     "execution_count": 5,
     "metadata": {},
     "output_type": "execute_result"
    }
   ],
   "source": [
    "dataset_to_file_paths"
   ]
  },
  {
   "cell_type": "code",
   "execution_count": null,
   "metadata": {},
   "outputs": [],
   "source": [
    "\n",
    "global_summary_plain_value_cols_df = pd.DataFrame()\n",
    "global_summary_images_stats = pd.DataFrame()\n",
    "global_summary_masks_stats = pd.DataFrame()\n",
    "global_areas_ranges_stats = defaultdict(list)\n",
    "global_areas_ratios_general_stats = defaultdict(list)\n",
    "\n",
    "for dataset_name, file_path in dataset_to_file_paths.items():\n",
    "    \n",
    "    print(\"*\"*20 + f\"{dataset_name}\" + \"*\"*20)\n",
    "    # load data\n",
    "    summary = stats_tools.load_summary(file_path=file_path)\n",
    "    dataset_to_summary = {dataset_name: summary}\n",
    "\n",
    "    # plain-common-stats-stats-plots-save\n",
    "    all_columns = list(summary.keys())\n",
    "    plain_value_cols = {}\n",
    "    plain_value_cols[\"dataset_name\"] = dataset_name\n",
    "    plain_value_cols.update({ k:v for (k,v) in summary.items() if not isinstance(summary[k], (list, dict))})\n",
    "    plain_value_cols_df=pd.DataFrame(plain_value_cols, index=[0])\n",
    "    global_summary_plain_value_cols_df=stats_tools.merge_df(df1=global_summary_plain_value_cols_df, \n",
    "                                                            df2=plain_value_cols_df)\n",
    "    \n",
    "    #summarize _categories_stats for each dataset\n",
    "    stats_tools.summarize_category_stats(dataset_name=dataset_name,\n",
    "                                         _categories_stats = summary['_categories_stats'],\n",
    "                                         save_path=summaries_path)\n",
    "    \n",
    "    # summarize_images_stats\n",
    "    _images_stats_df = pd.DataFrame({\"dataset_name\":dataset_name, **summary['_images_stats']}, index=[0])\n",
    "    global_summary_images_stats=stats_tools.merge_df(df1=global_summary_images_stats, \n",
    "                                                            df2=_images_stats_df)\n",
    "    \n",
    "    # summarize _masks_stats\n",
    "    _masks_stats_df = pd.DataFrame({\"dataset_name\":dataset_name, **summary['_masks_stats']}, index=[0])\n",
    "    global_summary_masks_stats=stats_tools.merge_df(df1=global_summary_masks_stats, \n",
    "                                                            df2=_masks_stats_df)\n",
    "\n",
    "    ##skydata/coco sizes boxes boxes stats\n",
    "    # \n",
    "    boxes_stats=summary['_boxes_stats']\n",
    "    areas_ranges_stats=boxes_stats['areas_ranges_stats']\n",
    "\n",
    "    global_areas_ranges_stats[\"dataset_name\"].append(dataset_name)\n",
    "    [global_areas_ranges_stats[k].append(v) for k,v in areas_ranges_stats.items()]\n",
    "\n",
    "    ## per datasets ratios stats\n",
    "    _ratios={\"dataset_name\":dataset_name, \n",
    "             \"ratios_hist\":summary['_boxes_stats']['ratios_hist']}\n",
    "    stats_tools.plot_save_per_dataset_ratios_hist(_ratios=_ratios,\n",
    "                                                    save_path=summaries_path/dataset_name/'plots',\n",
    "                                                    file_name=f'{dataset_name}_ratios_hist')\n",
    "    \n",
    "    ## global ratios and areas stats\n",
    "    #_is_bboxes, areas_stats, ratios_stats,areas_ranges\n",
    "    _area_ratio_stats=stats_tools.get_formated_area_stats_per_dataset(dataset_name=dataset_name, \n",
    "                                                    boxes_stats=boxes_stats)\n",
    "    [global_areas_ratios_general_stats[k].append(v) for k,v in _area_ratio_stats.items()]\n",
    "    "
   ]
  },
  {
   "cell_type": "code",
   "execution_count": null,
   "metadata": {},
   "outputs": [],
   "source": [
    "# plot generals and save stats\n",
    "\n",
    "## global_summary_plain_value_cols_df save to csv\n",
    "stats_tools.save_df_to_csv(df=global_summary_plain_value_cols_df,\n",
    "                            save_path=summaries_path/'all_datasets',\n",
    "                            file_name='_plain_value_global.csv')\n",
    "\n",
    "\n",
    "## global_summary_images_stats save to csv\n",
    "stats_tools.summarize_global_images_plot_and_save(global_summary_images_stats=global_summary_images_stats,\n",
    "                                                  save_path=summaries_path/'all_datasets',\n",
    "                                                  file_name='_images_stats_global')\n",
    "\n",
    "## global_summary_masks_stats save to csv\n",
    "stats_tools.summarize_global_summary_masks_stats_plot_and_save(global_summary_masks_stats=global_summary_masks_stats,\n",
    "                                                  save_path=summaries_path/'all_datasets',\n",
    "                                                  file_name='_masks_stats_global')\n",
    "\n",
    "# ## global_areas_ranges_stats save to csv\n",
    "stats_tools.summarize_global_areas_ranges_stats_plot_and_save(global_areas_ranges_stats_df=global_areas_ranges_stats,\n",
    "                                                  save_path=summaries_path/'all_datasets',\n",
    "                                                  file_name='_areas_ranges_stats_global')\n",
    "\n",
    "# ## global_areas_ratios_general_stats save to csv\n",
    "stats_tools.summarize_global_areas_ratios_general_stats_plot_and_save(stats=global_areas_ratios_general_stats,\n",
    "                                                                    save_path=summaries_path/'all_datasets',\n",
    "                                                                    file_name='_areas_ratios_general_stats')"
   ]
  }
 ],
 "metadata": {
  "kernelspec": {
   "display_name": "dsetStats",
   "language": "python",
   "name": "python3"
  },
  "language_info": {
   "codemirror_mode": {
    "name": "ipython",
    "version": 3
   },
   "file_extension": ".py",
   "mimetype": "text/x-python",
   "name": "python",
   "nbconvert_exporter": "python",
   "pygments_lexer": "ipython3",
   "version": "3.11.5"
  },
  "orig_nbformat": 4
 },
 "nbformat": 4,
 "nbformat_minor": 2
}
