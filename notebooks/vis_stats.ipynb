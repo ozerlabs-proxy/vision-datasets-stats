{
 "cells": [
  {
   "cell_type": "markdown",
   "metadata": {},
   "source": [
    "# 1. VIS-stats\n",
    "generate video instance segmentation (VIS) stats for a video datasets\n"
   ]
  },
  {
   "cell_type": "code",
   "execution_count": 1,
   "metadata": {},
   "outputs": [],
   "source": [
    "# expose parent directory to import modules\n",
    "import os\n",
    "import sys\n",
    "\n",
    "ROOT_DIR = os.getcwd()\n",
    "while os.path.basename(ROOT_DIR) != 'DatasetsStatistics':\n",
    "    ROOT_DIR = os.path.abspath(os.path.join(ROOT_DIR,'..'))\n",
    "sys.path.insert(0,ROOT_DIR)\n",
    "os.chdir(ROOT_DIR)\n",
    "\n",
    "TASK = 'VIS'"
   ]
  },
  {
   "cell_type": "code",
   "execution_count": 2,
   "metadata": {},
   "outputs": [],
   "source": [
    "\n",
    "\n",
    "# import libraries\n",
    "import numpy as np\n",
    "import pandas as pd\n",
    "import matplotlib.pyplot as plt\n",
    "import seaborn as sns\n",
    "import scipy.stats as stats\n",
    "from pathlib import Path\n",
    "import json\n",
    "import warnings\n",
    "from collections import defaultdict\n",
    "sns.set()\n",
    "\n",
    "from utils import stats_tools\n",
    "warnings.filterwarnings('ignore')"
   ]
  },
  {
   "cell_type": "code",
   "execution_count": 3,
   "metadata": {},
   "outputs": [],
   "source": [
    "#\n",
    "\n",
    "summaries_path = Path('./summaries')\n",
    "summaries_path= summaries_path / TASK\n",
    "summaries_path.mkdir(parents=True, exist_ok=True)"
   ]
  },
  {
   "cell_type": "code",
   "execution_count": 4,
   "metadata": {},
   "outputs": [],
   "source": [
    "# get dataset to file paths\n",
    "dataset_to_file_paths = stats_tools.get_dataset_to_file_paths(str(summaries_path))\n",
    "\n",
    "# len(dataset_to_file_paths), dataset_to_file_paths"
   ]
  },
  {
   "cell_type": "code",
   "execution_count": 5,
   "metadata": {},
   "outputs": [
    {
     "data": {
      "text/plain": [
       "{'ytvis_2019': PosixPath('summaries/VIS/ytvis_2019/instances_train_sub_stats.json')}"
      ]
     },
     "execution_count": 5,
     "metadata": {},
     "output_type": "execute_result"
    }
   ],
   "source": [
    "dataset_to_file_paths"
   ]
  },
  {
   "cell_type": "code",
   "execution_count": 6,
   "metadata": {},
   "outputs": [
    {
     "name": "stdout",
     "output_type": "stream",
     "text": [
      "********************ytvis_2019********************\n",
      "[INFO] Loading instances_train_sub_stats.json\n",
      "[INFO] Loaded instances_train_sub_stats.json\n",
      "[INFO] saving plot ....\n",
      "[INFO] Saved.\n"
     ]
    }
   ],
   "source": [
    "\n",
    "global_summary_plain_value_cols_df = pd.DataFrame()\n",
    "global_summary_videos_stats = pd.DataFrame()\n",
    "global_areas_ranges_stats = defaultdict(list)\n",
    "global_tracks_stats = defaultdict(list)\n",
    "\n",
    "for dataset_name, file_path in dataset_to_file_paths.items():\n",
    "    \n",
    "    print(\"*\"*20 + f\"{dataset_name}\" + \"*\"*20)\n",
    "    # load data\n",
    "    summary = stats_tools.load_summary(file_path=file_path)\n",
    "    dataset_to_summary = {dataset_name: summary}\n",
    "\n",
    "    # plain-common-stats-stats-plots-save\n",
    "    all_columns = list(summary.keys())\n",
    "    plain_value_cols = {}\n",
    "    plain_value_cols[\"dataset_name\"] = dataset_name\n",
    "    plain_value_cols.update({ k:v for (k,v) in summary.items() if not isinstance(summary[k], (list, dict))})\n",
    "    plain_value_cols.update(summary['info'])\n",
    "    plain_value_cols.update(summary['_general_stats'])\n",
    "    plain_value_cols.update(summary['tracks_stats'])\n",
    "    plain_value_cols.update({\n",
    "                        'categories_count': summary['_cats'][\"categories_count\"],\n",
    "                        'super_categories_count': summary['_cats'][\"super_categories_count\"]\n",
    "                        })\n",
    "    \n",
    "    plain_value_cols_df=pd.DataFrame(plain_value_cols, index=[0])\n",
    "    global_summary_plain_value_cols_df=stats_tools.merge_df(df1=global_summary_plain_value_cols_df, \n",
    "                                                            df2=plain_value_cols_df)\n",
    "    \n",
    "    #summarize _categories_stats for each dataset\n",
    "    stats_tools.plot_and_save_per_category_stats(per_category_stats = summary[\"_categories_stats\"],\n",
    "                                                    dataset_name = dataset_name, \n",
    "                                                    save_path = summaries_path)\n",
    "\n",
    "    ##skydata/coco sizes boxes boxes stats\n",
    "    # \n",
    "    boxes_stats=summary['_areas_stats']\n",
    "    areas_ranges_stats=boxes_stats['areas_stats']\n",
    "\n",
    "    global_areas_ranges_stats[\"dataset_name\"].append(dataset_name)\n",
    "    [global_areas_ranges_stats[k].append(v) for k,v in areas_ranges_stats.items()]\n",
    "    \n",
    "\n",
    "    # # summarize tracks\n",
    "    tracks_stats = summary['tracks_stats']\n",
    "    global_tracks_stats[\"dataset_name\"].append(dataset_name)\n",
    "    [global_tracks_stats[k].append(v) for k,v in tracks_stats.items()]\n",
    "    \n",
    "\n",
    "    "
   ]
  },
  {
   "cell_type": "code",
   "execution_count": 7,
   "metadata": {},
   "outputs": [
    {
     "name": "stdout",
     "output_type": "stream",
     "text": [
      "[INFO] Saving all_datasets\n",
      "[INFO] Saved _plain_value_global.csv\n",
      "[INFO] Global areas stats ....\n",
      "[INFO] Saving all_datasets\n",
      "[INFO] Saved _areas_ranges_stats_global.csv\n",
      "[INFO] Global tracks stats ....\n",
      "[INFO] Saving all_datasets\n",
      "[INFO] Saved _tracks_stats_global.csv\n"
     ]
    }
   ],
   "source": [
    "# plot generals and save stats\n",
    "\n",
    "## global_summary_plain_value_cols_df save to csv\n",
    "stats_tools.save_df_to_csv(df=global_summary_plain_value_cols_df,\n",
    "                            save_path=summaries_path/'all_datasets',\n",
    "                            file_name='_plain_value_global.csv')\n",
    "\n",
    "# ## global_areas_ranges_stats save to csv\n",
    "stats_tools.summarize_global_areas_ranges_stats_plot_and_save(global_areas_ranges_stats_df=global_areas_ranges_stats,\n",
    "                                                    save_path=summaries_path/'all_datasets',\n",
    "                                                    file_name='_areas_ranges_stats_global')\n",
    "\n",
    "\n",
    "# ## global_tracks_stats save to csv\n",
    "stats_tools.summarize_global_tracks_stats_plot_and_save(global_tracks_stats_df=global_tracks_stats,\n",
    "                                                    save_path=summaries_path/'all_datasets',\n",
    "                                                    file_name='_tracks_stats_global')"
   ]
  },
  {
   "cell_type": "code",
   "execution_count": null,
   "metadata": {},
   "outputs": [],
   "source": []
  },
  {
   "cell_type": "code",
   "execution_count": null,
   "metadata": {},
   "outputs": [],
   "source": []
  }
 ],
 "metadata": {
  "kernelspec": {
   "display_name": "dsetStats",
   "language": "python",
   "name": "python3"
  },
  "language_info": {
   "codemirror_mode": {
    "name": "ipython",
    "version": 3
   },
   "file_extension": ".py",
   "mimetype": "text/x-python",
   "name": "python",
   "nbconvert_exporter": "python",
   "pygments_lexer": "ipython3",
   "version": "3.11.5"
  },
  "orig_nbformat": 4
 },
 "nbformat": 4,
 "nbformat_minor": 2
}
