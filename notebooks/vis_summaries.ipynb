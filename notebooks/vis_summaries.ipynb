{
 "cells": [
  {
   "cell_type": "markdown",
   "metadata": {},
   "source": [
    "# Tracking Datasets\n",
    "\n",
    "All dataset will have classes that read annotations. The dataset class needs to extend our custom `BaseDatasetTracking` class. \n",
    "\n",
    "The `BaseDatasetTracking` class has the following methods:\n",
    "\n",
    "* `generate_dataset_statistics`: generates a summary of the dataset (e.g. number of videos, number of annotations, etc.)\n",
    "* `save_dataset_statistics`: saves the summary to a `json` file\n",
    "\n",
    "\n"
   ]
  },
  {
   "cell_type": "code",
   "execution_count": 1,
   "metadata": {},
   "outputs": [],
   "source": [
    "# expose parent directory to import modules\n",
    "import os\n",
    "import sys\n",
    "\n",
    "ROOT_DIR = os.getcwd()\n",
    "while os.path.basename(ROOT_DIR) != 'DatasetsStatistics':\n",
    "    ROOT_DIR = os.path.abspath(os.path.join(ROOT_DIR,'..'))\n",
    "sys.path.insert(0,ROOT_DIR)\n",
    "os.chdir(ROOT_DIR)"
   ]
  },
  {
   "cell_type": "code",
   "execution_count": 2,
   "metadata": {},
   "outputs": [],
   "source": [
    "TASK='VIS'"
   ]
  },
  {
   "cell_type": "markdown",
   "metadata": {},
   "source": [
    "## **1. YTvis 2018 dataset**\n",
    "\n",
    "``` python\n",
    "\n",
    "## 1. YTvis dataset\n",
    "\n",
    "from bases.youtube_vis_dataset import YoutubeVisDataset\n",
    "from pathlib import Path\n",
    "\n",
    "dataset_year = 2019\n",
    "dataset_stem = f\"ytvis_{dataset_year}\"\n",
    "split = \"train\"\n",
    "subset = f\"instances_{split}_sub\"\n",
    "annotiation_file = Path(f\"./data/{dataset_stem}/annotations/{subset}.json\")\n",
    "D = YoutubeVisDataset(annotation_file=str(annotiation_file))\n",
    "\n",
    "# generate and load stats\n",
    "D.generate_dataset_statistics()\n",
    "\n",
    "# save the stats\n",
    "D.save_dataset_statistics(save_path = f\"./summaries/{TASK}\",\n",
    "                            dataset_name = f\"{dataset_stem}\",\n",
    "                            file_name = f\"{subset}_stats.json\"\n",
    "                            )\n",
    "print(f\"[INFO] Saved\")\n",
    "\n",
    "```"
   ]
  },
  {
   "cell_type": "markdown",
   "metadata": {},
   "source": [
    "## **2. SkyData dataset**\n",
    "\n",
    "``` python\n",
    "\n",
    "## 2. SkyData dataset\n",
    "\n",
    "from bases.skydata_vis_dataset import SkyDataVis\n",
    "from pathlib import Path\n",
    "\n",
    "dataset_year = \"\"\n",
    "dataset_stem = f\"skydata{dataset_year}\"\n",
    "split = \"train\"\n",
    "# subset = \"train_SKYVIS_ds5_fr3_alldata\"\n",
    "subset = f\"{split}_SKYVIS_ds5_fr3_alldata\"\n",
    "annotiation_file = Path(f\"./data/{dataset_stem}/annotations/{subset}.json\")\n",
    "D = SkyDataVis(annotation_file=str(annotiation_file))\n",
    "\n",
    "# generate and load stats\n",
    "D.generate_dataset_statistics()\n",
    "\n",
    "# save the stats\n",
    "D.save_dataset_statistics(save_path = f\"./summaries/{TASK}\",\n",
    "                            dataset_name = f\"{dataset_stem}\",\n",
    "                            file_name = f\"{subset}_stats.json\"\n",
    "                            )\n",
    "print(f\"[INFO] Saved\")\n",
    "\n",
    "```"
   ]
  },
  {
   "cell_type": "markdown",
   "metadata": {},
   "source": [
    "## **3. YoutubeVis2021 dataset**\n",
    "\n",
    "``` python\n",
    "\n",
    "## 3. YoutubeVis2021 datase\n",
    "\n",
    "\n",
    "from bases.youtube_vis_dataset import YoutubeVisDataset\n",
    "from pathlib import Path\n",
    "\n",
    "dataset_year = 2021\n",
    "dataset_stem = f\"ytvis_{dataset_year}\"\n",
    "split = \"train\"\n",
    "subset = f\"instances_{split}_sub\"\n",
    "annotiation_file = Path(f\"./data/{dataset_stem}/annotations/{subset}.json\")\n",
    "D = YoutubeVisDataset(annotation_file=str(annotiation_file))\n",
    "\n",
    "# generate and load stats\n",
    "D.generate_dataset_statistics()\n",
    "\n",
    "# save the stats\n",
    "D.save_dataset_statistics(save_path = f\"./summaries/{TASK}\",\n",
    "                            dataset_name = f\"{dataset_stem}\",\n",
    "                            file_name = f\"{subset}_stats.json\"\n",
    "                            )\n",
    "print(f\"[INFO] Saved\")\n",
    "\n",
    "\n",
    "```"
   ]
  },
  {
   "cell_type": "code",
   "execution_count": null,
   "metadata": {},
   "outputs": [],
   "source": []
  }
 ],
 "metadata": {
  "kernelspec": {
   "display_name": "dsetStats",
   "language": "python",
   "name": "python3"
  },
  "language_info": {
   "codemirror_mode": {
    "name": "ipython",
    "version": 3
   },
   "file_extension": ".py",
   "mimetype": "text/x-python",
   "name": "python",
   "nbconvert_exporter": "python",
   "pygments_lexer": "ipython3",
   "version": "3.11.5"
  },
  "orig_nbformat": 4
 },
 "nbformat": 4,
 "nbformat_minor": 2
}
