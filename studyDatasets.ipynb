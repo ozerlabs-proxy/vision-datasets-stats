{
 "cells": [
  {
   "cell_type": "markdown",
   "metadata": {},
   "source": [
    "# Datasets\n",
    "\n",
    "All dataset will have classes that read annotations. The dataset class needs to extend our custom `BaseDataset` class. \n",
    "\n",
    "The `BaseDataset` class has the following methods:\n",
    "\n",
    "* `generate_dataset_statistics`: generates a summary of the dataset (e.g. number of images, number of annotations, etc.)\n",
    "* `save_dataset_statistics`: saves the summary to a `json` file\n",
    "\n",
    "\n"
   ]
  },
  {
   "cell_type": "markdown",
   "metadata": {},
   "source": [
    "## **0. Toy example**\n",
    "- get dataset instance\n",
    "- create index\n",
    "- generate statistics\n",
    "- save statistics\n"
   ]
  },
  {
   "cell_type": "markdown",
   "metadata": {},
   "source": []
  },
  {
   "cell_type": "markdown",
   "metadata": {},
   "source": [
    "``` python\n",
    "\n",
    "# 0. Toy example\n",
    "\n",
    "from bases.example import Example\n",
    "\n",
    "D = Example()\n",
    "\n",
    "# generate and load stats\n",
    "D.generate_dataset_statistics()\n",
    "\n",
    "# save the stats\n",
    "D.save_dataset_statistics(save_path = \"./summaries\",\n",
    "                            dataset_name = None,\n",
    "                            file_name = None\n",
    "                            )\n",
    "\n",
    "```"
   ]
  },
  {
   "cell_type": "markdown",
   "metadata": {},
   "source": [
    "## **1. COCO dataset**\n",
    "\n",
    "``` python\n",
    "## 1. COCO dataset\n",
    "\n",
    "from bases.coco import COCO\n",
    "from pathlib import Path\n",
    "\n",
    "coco_year = 2017\n",
    "subset = f\"instances_train{coco_year}\"\n",
    "annotiation_file = Path(f\"./data/coco/{coco_year}/annotations/{subset}.json\")\n",
    "D = COCO(annotation_file=str(annotiation_file))\n",
    "\n",
    "# generate and load stats\n",
    "D.generate_dataset_statistics()\n",
    "\n",
    "# save the stats\n",
    "D.save_dataset_statistics(save_path = \"./summaries\",\n",
    "                            dataset_name = f\"coco\",\n",
    "                            file_name = f\"{subset}_stats.json\"\n",
    "                            )\n",
    "```"
   ]
  },
  {
   "cell_type": "markdown",
   "metadata": {},
   "source": [
    "## **2. SkyData dataset**\n",
    "\n",
    "\n",
    "```python\n",
    "## 2. Skydata \n",
    "\n",
    "from bases.skydata import SkyData\n",
    "from pathlib import Path\n",
    "\n",
    "subset = f\"train_DET\"\n",
    "annotiation_file = Path(f\"./data/skydata/annotations/{subset}.json\")\n",
    "D = SkyData(annotation_file=str(annotiation_file))\n",
    "\n",
    "# generate and load stats\n",
    "D.generate_dataset_statistics()\n",
    "\n",
    "# save the stats\n",
    "D.save_dataset_statistics(save_path = \"./summaries\",\n",
    "                            dataset_name = f\"skydata\",\n",
    "                            file_name = f\"{subset}_stats.json\"\n",
    "                            )\n",
    "```"
   ]
  },
  {
   "cell_type": "markdown",
   "metadata": {},
   "source": [
    "\n",
    "## **3. Visdrone dataset**\n",
    "\n",
    "\n",
    "```python\n",
    "## 3. Visdrone \n",
    "\n",
    "from bases.visdrone import VisDrone\n",
    "from pathlib import Path\n",
    "\n",
    "import os\n",
    "\n",
    "\n",
    "converted_path = Path(\"./data/visdrone/converted_annotations\")\n",
    "annotation_file = converted_path / \"visdrone_converted_to_coco_format.json\"\n",
    "\n",
    "# if annotation_file does not exist, convert the dataset\n",
    "if not annotation_file.exists():\n",
    "\n",
    "    try:\n",
    "        #TODO this could be improved \n",
    "        # The script could take arguments \n",
    "        print(\"[INFO] Converting visdrone dataset to COCO format...\")\n",
    "        os.system(\"python ./scripts/conver_visdrone_to_coco_format.py\")\n",
    "        print(\"[INFO] Finished converting dataset to COCO format.\")\n",
    "    except:\n",
    "        print(\"[ERROR] Could not convert dataset to COCO format.\")\n",
    "        exit(1)\n",
    "\n",
    "\n",
    "D = VisDrone(annotation_file=str(annotation_file))\n",
    "\n",
    "# generate and load stats\n",
    "D.generate_dataset_statistics()\n",
    "\n",
    "# save the stats\n",
    "D.save_dataset_statistics(save_path = \"./summaries\",\n",
    "                            dataset_name = f\"visdrone\",\n",
    "                            file_name = f\"{annotation_file.stem}_stats.json\"\n",
    "                            )\n",
    "                            \n",
    "```"
   ]
  },
  {
   "cell_type": "code",
   "execution_count": 1,
   "metadata": {},
   "outputs": [
    {
     "name": "stdout",
     "output_type": "stream",
     "text": [
      "loading annotations into memory...\n",
      "Done (t=0.84s)\n",
      "creating index...\n",
      "index created!\n",
      "[INFO] Generating dataset statistics for the VisDrone...\n",
      "[INFO] Dataset statistics generated for the VisDrone.\n",
      "[INFO] saving ...: visdrone_converted_to_coco_format_stats.json\n",
      "[INFO] dataset statistics saved to: summaries/visdrone/visdrone_converted_to_coco_format_stats.json\n"
     ]
    }
   ],
   "source": [
    "\n",
    "## 3. Visdrone \n",
    "\n",
    "from bases.visdrone import VisDrone\n",
    "from pathlib import Path\n",
    "\n",
    "import os\n",
    "\n",
    "\n",
    "converted_path = Path(\"./data/visdrone/converted_annotations\")\n",
    "annotation_file = converted_path / \"visdrone_converted_to_coco_format.json\"\n",
    "\n",
    "# if annotation_file does not exist, convert the dataset\n",
    "if not annotation_file.exists():\n",
    "\n",
    "    try:\n",
    "        #TODO this could be improved \n",
    "        # The script could take arguments \n",
    "        print(\"[INFO] Converting visdrone dataset to COCO format...\")\n",
    "        os.system(\"python ./scripts/conver_visdrone_to_coco_format.py\")\n",
    "        print(\"[INFO] Finished converting dataset to COCO format.\")\n",
    "    except:\n",
    "        print(\"[ERROR] Could not convert dataset to COCO format.\")\n",
    "        exit(1)\n",
    "\n",
    "\n",
    "D = VisDrone(annotation_file=str(annotation_file))\n",
    "\n",
    "# generate and load stats\n",
    "D.generate_dataset_statistics()\n",
    "\n",
    "# save the stats\n",
    "D.save_dataset_statistics(save_path = \"./summaries\",\n",
    "                            dataset_name = f\"visdrone\",\n",
    "                            file_name = f\"{annotation_file.stem}_stats.json\"\n",
    "                            )\n",
    "                            \n"
   ]
  },
  {
   "cell_type": "markdown",
   "metadata": {},
   "source": [
    "## **4. Visdrone dataset**"
   ]
  }
 ],
 "metadata": {
  "kernelspec": {
   "display_name": "dsetStats",
   "language": "python",
   "name": "python3"
  },
  "language_info": {
   "codemirror_mode": {
    "name": "ipython",
    "version": 3
   },
   "file_extension": ".py",
   "mimetype": "text/x-python",
   "name": "python",
   "nbconvert_exporter": "python",
   "pygments_lexer": "ipython3",
   "version": "3.11.5"
  },
  "orig_nbformat": 4
 },
 "nbformat": 4,
 "nbformat_minor": 2
}
