{
 "cells": [
  {
   "cell_type": "markdown",
   "metadata": {},
   "source": [
    "# Datasets\n",
    "\n",
    "All dataset will have classes that read annotations. The dataset class needs to extend our custom `BaseDataset` class. \n",
    "\n",
    "The `BaseDataset` class has the following methods:\n",
    "\n",
    "* `generate_dataset_statistics`: generates a summary of the dataset (e.g. number of images, number of annotations, etc.)\n",
    "* `save_dataset_statistics`: saves the summary to a `json` file\n",
    "\n",
    "\n"
   ]
  },
  {
   "cell_type": "markdown",
   "metadata": {},
   "source": [
    "**0. Toy example**\n",
    "- get dataset instance\n",
    "- create index\n",
    "- generate statistics\n",
    "- save statistics\n"
   ]
  },
  {
   "cell_type": "code",
   "execution_count": 1,
   "metadata": {},
   "outputs": [
    {
     "name": "stdout",
     "output_type": "stream",
     "text": [
      "[INFO] Creating index for the Example...\n",
      "[INFO] Index created for the Example.\n",
      "[INFO] Generating dataset statistics for the Example...\n",
      "[INFO] Dataset statistics generated for the Example.\n",
      "[INFO] saving ...: Example_stats.json\n"
     ]
    }
   ],
   "source": [
    "from Bases.Example import *\n",
    "\n",
    "D = Example()\n",
    "\n",
    "# create the index\n",
    "D.create_index()\n",
    "\n",
    "# generate and load stats\n",
    "D.generate_dataset_statistics()\n",
    "\n",
    "# save the stats\n",
    "D.save_dataset_statistics(save_path = \"./summaries\",\n",
    "                            dataset_name = None,\n",
    "                            file_name = None\n",
    "                            )\n",
    "\n"
   ]
  },
  {
   "cell_type": "code",
   "execution_count": 2,
   "metadata": {},
   "outputs": [],
   "source": [
    "## 1. COCO dataset"
   ]
  }
 ],
 "metadata": {
  "kernelspec": {
   "display_name": "dsetStats",
   "language": "python",
   "name": "python3"
  },
  "language_info": {
   "codemirror_mode": {
    "name": "ipython",
    "version": 3
   },
   "file_extension": ".py",
   "mimetype": "text/x-python",
   "name": "python",
   "nbconvert_exporter": "python",
   "pygments_lexer": "ipython3",
   "version": "3.11.5"
  },
  "orig_nbformat": 4
 },
 "nbformat": 4,
 "nbformat_minor": 2
}
